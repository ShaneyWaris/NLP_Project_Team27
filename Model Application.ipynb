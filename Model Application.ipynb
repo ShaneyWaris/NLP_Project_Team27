{
 "cells": [
  {
   "cell_type": "code",
   "execution_count": 16,
   "metadata": {},
   "outputs": [],
   "source": [
    "from sklearn.metrics import classification_report\n",
    "import dill\n",
    "import pandas as pd"
   ]
  },
  {
   "cell_type": "code",
   "execution_count": 17,
   "metadata": {},
   "outputs": [],
   "source": [
    "def model_prediction(model, X_train, y_train, X_test, y_test, model_name) :\n",
    "    model = model.fit(X_train, y_train)\n",
    "    print('Training Done')\n",
    "    y_pred = model.predict(X_test)\n",
    "    print(classification_report(y_test, y_pred))\n",
    "    dill.dump(model, open(model_name, 'wb'))"
   ]
  },
  {
   "cell_type": "code",
   "execution_count": 18,
   "metadata": {},
   "outputs": [],
   "source": [
    "def load_dataset(filename, target) :\n",
    "    df = pd.read_csv(filename, header=None)\n",
    "    X = df.drop(columns=[target]).values\n",
    "    Y = df[[target]].values\n",
    "    return X, Y"
   ]
  },
  {
   "cell_type": "code",
   "execution_count": 12,
   "metadata": {},
   "outputs": [],
   "source": [
    "train_X, train_y = load_dataset('train_instance_bert.csv', 780)\n",
    "test_X, test_y = load_dataset('test_instance_bert.csv', 780)"
   ]
  },
  {
   "cell_type": "code",
   "execution_count": null,
   "metadata": {},
   "outputs": [],
   "source": []
  },
  {
   "cell_type": "code",
   "execution_count": 19,
   "metadata": {},
   "outputs": [
    {
     "name": "stdout",
     "output_type": "stream",
     "text": [
      "Training Done\n",
      "              precision    recall  f1-score   support\n",
      "\n",
      "         0.0       0.00      0.00      0.00       295\n",
      "         1.0       0.00      0.00      0.00        88\n",
      "         2.0       0.50      0.08      0.14       701\n",
      "         3.0       0.85      0.99      0.92      5849\n",
      "\n",
      "    accuracy                           0.84      6933\n",
      "   macro avg       0.34      0.27      0.26      6933\n",
      "weighted avg       0.77      0.84      0.79      6933\n",
      "\n"
     ]
    },
    {
     "name": "stderr",
     "output_type": "stream",
     "text": [
      "C:\\ProgramData\\Anaconda3\\lib\\site-packages\\sklearn\\metrics\\_classification.py:1221: UndefinedMetricWarning: Precision and F-score are ill-defined and being set to 0.0 in labels with no predicted samples. Use `zero_division` parameter to control this behavior.\n",
      "  _warn_prf(average, modifier, msg_start, len(result))\n"
     ]
    }
   ],
   "source": [
    "from sklearn.ensemble import RandomForestClassifier\n",
    "model_prediction(RandomForestClassifier(), train_X, train_y[:,0], test_X, test_y[:,0], 'rf_bert.ml')"
   ]
  },
  {
   "cell_type": "code",
   "execution_count": 20,
   "metadata": {},
   "outputs": [
    {
     "name": "stdout",
     "output_type": "stream",
     "text": [
      "Training Done\n",
      "              precision    recall  f1-score   support\n",
      "\n",
      "         0.0       0.25      0.08      0.13       295\n",
      "         1.0       0.00      0.00      0.00        88\n",
      "         2.0       0.45      0.24      0.31       701\n",
      "         3.0       0.87      0.96      0.91      5849\n",
      "\n",
      "    accuracy                           0.84      6933\n",
      "   macro avg       0.39      0.32      0.34      6933\n",
      "weighted avg       0.79      0.84      0.81      6933\n",
      "\n"
     ]
    },
    {
     "name": "stderr",
     "output_type": "stream",
     "text": [
      "C:\\ProgramData\\Anaconda3\\lib\\site-packages\\sklearn\\metrics\\_classification.py:1221: UndefinedMetricWarning: Precision and F-score are ill-defined and being set to 0.0 in labels with no predicted samples. Use `zero_division` parameter to control this behavior.\n",
      "  _warn_prf(average, modifier, msg_start, len(result))\n"
     ]
    }
   ],
   "source": [
    "from xgboost import XGBClassifier\n",
    "model_prediction(XGBClassifier(), train_X, train_y[:,0], test_X, test_y[:,0], 'xgb_bert.ml')"
   ]
  },
  {
   "cell_type": "code",
   "execution_count": 21,
   "metadata": {},
   "outputs": [
    {
     "name": "stdout",
     "output_type": "stream",
     "text": [
      "Training Done\n",
      "              precision    recall  f1-score   support\n",
      "\n",
      "         0.0       0.16      0.30      0.21       295\n",
      "         1.0       0.33      0.10      0.16        88\n",
      "         2.0       0.35      0.47      0.40       701\n",
      "         3.0       0.92      0.85      0.88      5849\n",
      "\n",
      "    accuracy                           0.78      6933\n",
      "   macro avg       0.44      0.43      0.41      6933\n",
      "weighted avg       0.82      0.78      0.80      6933\n",
      "\n"
     ]
    }
   ],
   "source": [
    "from sklearn.neural_network import MLPClassifier\n",
    "model_prediction(MLPClassifier(), train_X, train_y[:,0], test_X, test_y[:,0], 'mlp_bert.ml')"
   ]
  },
  {
   "cell_type": "code",
   "execution_count": 22,
   "metadata": {},
   "outputs": [
    {
     "name": "stdout",
     "output_type": "stream",
     "text": [
      "Training Done\n"
     ]
    },
    {
     "name": "stderr",
     "output_type": "stream",
     "text": [
      "C:\\ProgramData\\Anaconda3\\lib\\site-packages\\sklearn\\metrics\\_classification.py:1221: UndefinedMetricWarning: Precision and F-score are ill-defined and being set to 0.0 in labels with no predicted samples. Use `zero_division` parameter to control this behavior.\n",
      "  _warn_prf(average, modifier, msg_start, len(result))\n"
     ]
    },
    {
     "name": "stdout",
     "output_type": "stream",
     "text": [
      "              precision    recall  f1-score   support\n",
      "\n",
      "         0.0       0.00      0.00      0.00       295\n",
      "         1.0       0.00      0.00      0.00        88\n",
      "         2.0       0.02      0.00      0.00       701\n",
      "         3.0       0.84      0.99      0.91      5849\n",
      "\n",
      "    accuracy                           0.84      6933\n",
      "   macro avg       0.22      0.25      0.23      6933\n",
      "weighted avg       0.71      0.84      0.77      6933\n",
      "\n"
     ]
    }
   ],
   "source": [
    "from sklearn.svm import SVC\n",
    "model_prediction(SVC(), train_X, train_y[:,0], test_X, test_y[:,0], 'svc_bert.ml')"
   ]
  },
  {
   "cell_type": "code",
   "execution_count": null,
   "metadata": {},
   "outputs": [],
   "source": []
  },
  {
   "cell_type": "code",
   "execution_count": null,
   "metadata": {},
   "outputs": [],
   "source": []
  },
  {
   "cell_type": "code",
   "execution_count": 39,
   "metadata": {},
   "outputs": [
    {
     "name": "stdout",
     "output_type": "stream",
     "text": [
      "Training Done\n",
      "              precision    recall  f1-score   support\n",
      "\n",
      "         0.0       1.00      0.00      0.01       295\n",
      "         1.0       0.00      0.00      0.00        88\n",
      "         2.0       0.47      0.08      0.13       701\n",
      "         3.0       0.85      0.99      0.91      5849\n",
      "\n",
      "    accuracy                           0.84      6933\n",
      "   macro avg       0.58      0.27      0.26      6933\n",
      "weighted avg       0.81      0.84      0.79      6933\n",
      "\n"
     ]
    },
    {
     "name": "stderr",
     "output_type": "stream",
     "text": [
      "C:\\ProgramData\\Anaconda3\\lib\\site-packages\\sklearn\\metrics\\_classification.py:1221: UndefinedMetricWarning: Precision and F-score are ill-defined and being set to 0.0 in labels with no predicted samples. Use `zero_division` parameter to control this behavior.\n",
      "  _warn_prf(average, modifier, msg_start, len(result))\n"
     ]
    }
   ],
   "source": [
    "from sklearn.ensemble import RandomForestClassifier\n",
    "model_prediction(RandomForestClassifier(), train_X[:,:768], train_y[:,0], test_X[:,:768], test_y[:,0], 'rf_bert.ml')"
   ]
  },
  {
   "cell_type": "code",
   "execution_count": 24,
   "metadata": {},
   "outputs": [
    {
     "name": "stdout",
     "output_type": "stream",
     "text": [
      "Training Done\n",
      "              precision    recall  f1-score   support\n",
      "\n",
      "         0.0       0.20      0.08      0.11       295\n",
      "         1.0       0.00      0.00      0.00        88\n",
      "         2.0       0.42      0.23      0.30       701\n",
      "         3.0       0.87      0.95      0.91      5849\n",
      "\n",
      "    accuracy                           0.83      6933\n",
      "   macro avg       0.37      0.32      0.33      6933\n",
      "weighted avg       0.78      0.83      0.80      6933\n",
      "\n"
     ]
    }
   ],
   "source": [
    "from xgboost import XGBClassifier\n",
    "model_prediction(XGBClassifier(), train_X[:,:768], train_y[:,0], test_X[:,:768], test_y[:,0], 'xgb_bert.ml')"
   ]
  },
  {
   "cell_type": "code",
   "execution_count": 25,
   "metadata": {},
   "outputs": [
    {
     "name": "stdout",
     "output_type": "stream",
     "text": [
      "Training Done\n",
      "              precision    recall  f1-score   support\n",
      "\n",
      "         0.0       0.16      0.31      0.21       295\n",
      "         1.0       0.05      0.08      0.06        88\n",
      "         2.0       0.34      0.47      0.39       701\n",
      "         3.0       0.93      0.83      0.87      5849\n",
      "\n",
      "    accuracy                           0.76      6933\n",
      "   macro avg       0.37      0.42      0.38      6933\n",
      "weighted avg       0.82      0.76      0.79      6933\n",
      "\n"
     ]
    }
   ],
   "source": [
    "from sklearn.neural_network import MLPClassifier\n",
    "model_prediction(MLPClassifier(), train_X[:,:768], train_y[:,0], test_X[:,:768], test_y[:,0], 'mlp_bert.ml')"
   ]
  },
  {
   "cell_type": "code",
   "execution_count": 26,
   "metadata": {},
   "outputs": [
    {
     "name": "stdout",
     "output_type": "stream",
     "text": [
      "Training Done\n"
     ]
    },
    {
     "name": "stderr",
     "output_type": "stream",
     "text": [
      "C:\\ProgramData\\Anaconda3\\lib\\site-packages\\sklearn\\metrics\\_classification.py:1221: UndefinedMetricWarning: Precision and F-score are ill-defined and being set to 0.0 in labels with no predicted samples. Use `zero_division` parameter to control this behavior.\n",
      "  _warn_prf(average, modifier, msg_start, len(result))\n"
     ]
    },
    {
     "name": "stdout",
     "output_type": "stream",
     "text": [
      "              precision    recall  f1-score   support\n",
      "\n",
      "         0.0       0.16      0.15      0.15       295\n",
      "         1.0       0.00      0.00      0.00        88\n",
      "         2.0       0.48      0.38      0.42       701\n",
      "         3.0       0.89      0.93      0.91      5849\n",
      "\n",
      "    accuracy                           0.83      6933\n",
      "   macro avg       0.38      0.36      0.37      6933\n",
      "weighted avg       0.81      0.83      0.82      6933\n",
      "\n"
     ]
    }
   ],
   "source": [
    "from sklearn.svm import SVC\n",
    "model_prediction(SVC(), train_X[:,:768], train_y[:,0], test_X[:,:768], test_y[:,0], 'svc_bert.ml')"
   ]
  },
  {
   "cell_type": "code",
   "execution_count": null,
   "metadata": {},
   "outputs": [],
   "source": []
  },
  {
   "cell_type": "code",
   "execution_count": null,
   "metadata": {},
   "outputs": [],
   "source": []
  },
  {
   "cell_type": "code",
   "execution_count": 28,
   "metadata": {},
   "outputs": [],
   "source": [
    "train_U_X, train_U_y = load_dataset('train_instance_u.csv', 524)\n",
    "test_U_X, test_U_y = load_dataset('test_instance_u.csv', 524)"
   ]
  },
  {
   "cell_type": "code",
   "execution_count": 29,
   "metadata": {},
   "outputs": [
    {
     "name": "stdout",
     "output_type": "stream",
     "text": [
      "Training Done\n",
      "              precision    recall  f1-score   support\n",
      "\n",
      "         0.0       0.00      0.00      0.00       295\n",
      "         1.0       0.00      0.00      0.00        88\n",
      "         2.0       0.71      0.02      0.03       701\n",
      "         3.0       0.84      1.00      0.92      5849\n",
      "\n",
      "    accuracy                           0.84      6933\n",
      "   macro avg       0.39      0.25      0.24      6933\n",
      "weighted avg       0.78      0.84      0.78      6933\n",
      "\n"
     ]
    },
    {
     "name": "stderr",
     "output_type": "stream",
     "text": [
      "C:\\ProgramData\\Anaconda3\\lib\\site-packages\\sklearn\\metrics\\_classification.py:1221: UndefinedMetricWarning: Precision and F-score are ill-defined and being set to 0.0 in labels with no predicted samples. Use `zero_division` parameter to control this behavior.\n",
      "  _warn_prf(average, modifier, msg_start, len(result))\n"
     ]
    }
   ],
   "source": [
    "model_prediction(RandomForestClassifier(), train_U_X, train_U_y[:,0], test_U_X, test_U_y[:,0], 'rf_u.ml')"
   ]
  },
  {
   "cell_type": "code",
   "execution_count": 32,
   "metadata": {},
   "outputs": [
    {
     "name": "stdout",
     "output_type": "stream",
     "text": [
      "Training Done\n",
      "              precision    recall  f1-score   support\n",
      "\n",
      "         0.0       0.22      0.06      0.10       295\n",
      "         1.0       0.00      0.00      0.00        88\n",
      "         2.0       0.63      0.22      0.32       701\n",
      "         3.0       0.87      0.98      0.92      5849\n",
      "\n",
      "    accuracy                           0.85      6933\n",
      "   macro avg       0.43      0.32      0.34      6933\n",
      "weighted avg       0.81      0.85      0.81      6933\n",
      "\n"
     ]
    },
    {
     "name": "stderr",
     "output_type": "stream",
     "text": [
      "C:\\ProgramData\\Anaconda3\\lib\\site-packages\\sklearn\\metrics\\_classification.py:1221: UndefinedMetricWarning: Precision and F-score are ill-defined and being set to 0.0 in labels with no predicted samples. Use `zero_division` parameter to control this behavior.\n",
      "  _warn_prf(average, modifier, msg_start, len(result))\n"
     ]
    }
   ],
   "source": [
    "model_prediction(XGBClassifier(), train_U_X, train_U_y[:,0], test_U_X, test_U_y[:,0], 'xgb_u.ml')"
   ]
  },
  {
   "cell_type": "code",
   "execution_count": 33,
   "metadata": {},
   "outputs": [
    {
     "name": "stdout",
     "output_type": "stream",
     "text": [
      "Training Done\n",
      "              precision    recall  f1-score   support\n",
      "\n",
      "         0.0       0.11      0.35      0.17       295\n",
      "         1.0       0.06      0.02      0.03        88\n",
      "         2.0       0.27      0.57      0.36       701\n",
      "         3.0       0.93      0.72      0.81      5849\n",
      "\n",
      "    accuracy                           0.68      6933\n",
      "   macro avg       0.34      0.41      0.34      6933\n",
      "weighted avg       0.82      0.68      0.73      6933\n",
      "\n"
     ]
    }
   ],
   "source": [
    "model_prediction(MLPClassifier(), train_U_X, train_U_y[:,0], test_U_X, test_U_y[:,0], 'mlp_u.ml')"
   ]
  },
  {
   "cell_type": "code",
   "execution_count": 34,
   "metadata": {},
   "outputs": [
    {
     "name": "stdout",
     "output_type": "stream",
     "text": [
      "Training Done\n"
     ]
    },
    {
     "name": "stderr",
     "output_type": "stream",
     "text": [
      "C:\\ProgramData\\Anaconda3\\lib\\site-packages\\sklearn\\metrics\\_classification.py:1221: UndefinedMetricWarning: Precision and F-score are ill-defined and being set to 0.0 in labels with no predicted samples. Use `zero_division` parameter to control this behavior.\n",
      "  _warn_prf(average, modifier, msg_start, len(result))\n"
     ]
    },
    {
     "name": "stdout",
     "output_type": "stream",
     "text": [
      "              precision    recall  f1-score   support\n",
      "\n",
      "         0.0       0.00      0.00      0.00       295\n",
      "         1.0       0.00      0.00      0.00        88\n",
      "         2.0       0.02      0.00      0.00       701\n",
      "         3.0       0.84      0.99      0.91      5849\n",
      "\n",
      "    accuracy                           0.84      6933\n",
      "   macro avg       0.22      0.25      0.23      6933\n",
      "weighted avg       0.71      0.84      0.77      6933\n",
      "\n"
     ]
    }
   ],
   "source": [
    "model_prediction(SVC(), train_U_X, train_U_y[:,0], test_U_X, test_U_y[:,0], 'svc_u.ml')"
   ]
  },
  {
   "cell_type": "code",
   "execution_count": 35,
   "metadata": {},
   "outputs": [
    {
     "name": "stdout",
     "output_type": "stream",
     "text": [
      "Training Done\n",
      "              precision    recall  f1-score   support\n",
      "\n",
      "         0.0       0.00      0.00      0.00       295\n",
      "         1.0       0.00      0.00      0.00        88\n",
      "         2.0       0.76      0.03      0.06       701\n",
      "         3.0       0.85      1.00      0.92      5849\n",
      "\n",
      "    accuracy                           0.85      6933\n",
      "   macro avg       0.40      0.26      0.24      6933\n",
      "weighted avg       0.79      0.85      0.78      6933\n",
      "\n"
     ]
    },
    {
     "name": "stderr",
     "output_type": "stream",
     "text": [
      "C:\\ProgramData\\Anaconda3\\lib\\site-packages\\sklearn\\metrics\\_classification.py:1221: UndefinedMetricWarning: Precision and F-score are ill-defined and being set to 0.0 in labels with no predicted samples. Use `zero_division` parameter to control this behavior.\n",
      "  _warn_prf(average, modifier, msg_start, len(result))\n"
     ]
    }
   ],
   "source": [
    "model_prediction(RandomForestClassifier(), train_U_X[:,:512], train_U_y[:,0], test_U_X[:,:512], test_U_y[:,0], 'rf_u.ml')"
   ]
  },
  {
   "cell_type": "code",
   "execution_count": 36,
   "metadata": {},
   "outputs": [
    {
     "name": "stdout",
     "output_type": "stream",
     "text": [
      "Training Done\n",
      "              precision    recall  f1-score   support\n",
      "\n",
      "         0.0       0.26      0.06      0.10       295\n",
      "         1.0       0.00      0.00      0.00        88\n",
      "         2.0       0.57      0.20      0.29       701\n",
      "         3.0       0.87      0.98      0.92      5849\n",
      "\n",
      "    accuracy                           0.85      6933\n",
      "   macro avg       0.43      0.31      0.33      6933\n",
      "weighted avg       0.80      0.85      0.81      6933\n",
      "\n"
     ]
    }
   ],
   "source": [
    "model_prediction(XGBClassifier(), train_U_X[:,:512], train_U_y[:,0], test_U_X[:,:512], test_U_y[:,0], 'xgb_u.ml')"
   ]
  },
  {
   "cell_type": "code",
   "execution_count": 37,
   "metadata": {},
   "outputs": [
    {
     "name": "stderr",
     "output_type": "stream",
     "text": [
      "C:\\ProgramData\\Anaconda3\\lib\\site-packages\\sklearn\\neural_network\\_multilayer_perceptron.py:582: ConvergenceWarning: Stochastic Optimizer: Maximum iterations (200) reached and the optimization hasn't converged yet.\n",
      "  warnings.warn(\n"
     ]
    },
    {
     "name": "stdout",
     "output_type": "stream",
     "text": [
      "Training Done\n",
      "              precision    recall  f1-score   support\n",
      "\n",
      "         0.0       0.16      0.40      0.23       295\n",
      "         1.0       0.02      0.03      0.03        88\n",
      "         2.0       0.29      0.39      0.33       701\n",
      "         3.0       0.92      0.80      0.86      5849\n",
      "\n",
      "    accuracy                           0.73      6933\n",
      "   macro avg       0.35      0.41      0.36      6933\n",
      "weighted avg       0.81      0.73      0.77      6933\n",
      "\n"
     ]
    }
   ],
   "source": [
    "model_prediction(MLPClassifier(), train_U_X[:,:512], train_U_y[:,0], test_U_X[:,:512], test_U_y[:,0], 'mlp_u.ml')"
   ]
  },
  {
   "cell_type": "code",
   "execution_count": 38,
   "metadata": {},
   "outputs": [
    {
     "name": "stdout",
     "output_type": "stream",
     "text": [
      "Training Done\n"
     ]
    },
    {
     "name": "stderr",
     "output_type": "stream",
     "text": [
      "C:\\ProgramData\\Anaconda3\\lib\\site-packages\\sklearn\\metrics\\_classification.py:1221: UndefinedMetricWarning: Precision and F-score are ill-defined and being set to 0.0 in labels with no predicted samples. Use `zero_division` parameter to control this behavior.\n",
      "  _warn_prf(average, modifier, msg_start, len(result))\n"
     ]
    },
    {
     "name": "stdout",
     "output_type": "stream",
     "text": [
      "              precision    recall  f1-score   support\n",
      "\n",
      "         0.0       0.23      0.25      0.24       295\n",
      "         1.0       0.00      0.00      0.00        88\n",
      "         2.0       0.49      0.38      0.43       701\n",
      "         3.0       0.90      0.94      0.92      5849\n",
      "\n",
      "    accuracy                           0.84      6933\n",
      "   macro avg       0.41      0.39      0.40      6933\n",
      "weighted avg       0.82      0.84      0.83      6933\n",
      "\n"
     ]
    }
   ],
   "source": [
    "model_prediction(SVC(), train_U_X[:,:512], train_U_y[:,0], test_U_X[:,:512], test_U_y[:,0], 'svc_u.ml')"
   ]
  },
  {
   "cell_type": "code",
   "execution_count": null,
   "metadata": {},
   "outputs": [],
   "source": []
  }
 ],
 "metadata": {
  "kernelspec": {
   "display_name": "Python 3",
   "language": "python",
   "name": "python3"
  },
  "language_info": {
   "codemirror_mode": {
    "name": "ipython",
    "version": 3
   },
   "file_extension": ".py",
   "mimetype": "text/x-python",
   "name": "python",
   "nbconvert_exporter": "python",
   "pygments_lexer": "ipython3",
   "version": "3.8.3"
  }
 },
 "nbformat": 4,
 "nbformat_minor": 4
}
